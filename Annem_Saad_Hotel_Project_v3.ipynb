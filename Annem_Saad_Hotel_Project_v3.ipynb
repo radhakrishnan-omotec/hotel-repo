{
  "nbformat": 4,
  "nbformat_minor": 0,
  "metadata": {
    "colab": {
      "provenance": [],
      "include_colab_link": true
    },
    "kernelspec": {
      "name": "python3",
      "display_name": "Python 3"
    },
    "language_info": {
      "name": "python"
    }
  },
  "cells": [
    {
      "cell_type": "markdown",
      "metadata": {
        "id": "view-in-github",
        "colab_type": "text"
      },
      "source": [
        "<a href=\"https://colab.research.google.com/github/radhakrishnan-omotec/hotel-repo/blob/main/Annem_Saad_Hotel_Project_v3.ipynb\" target=\"_parent\"><img src=\"https://colab.research.google.com/assets/colab-badge.svg\" alt=\"Open In Colab\"/></a>"
      ]
    },
    {
      "cell_type": "markdown",
      "source": [
        "#Facial Recognition for Personalized Hotel Guest Services\n",
        "\n",
        "**Author**:\n",
        "ANNEM SAAD"
      ],
      "metadata": {
        "id": "SuuXHrID0yp9"
      }
    },
    {
      "cell_type": "markdown",
      "source": [
        "##**ABSTRACT**\n",
        "\n",
        "Facial recognition technology has emerged as a transformative tool in various sectors, and its application in the hospitality industry promises to revolutionize guest experiences. This research explores the use of facial recognition for personalized hotel guest services, with the aim of streamlining check-in processes, enhancing security, and customizing guest services. The proposed system captures and processes guest images via a webcam interface, storing both facial images and personal information (such as name and room number) in a structured SQLite database. Facial feature detection, including the identification of eyes, smiles, and other key landmarks, is integrated to ensure high recognition accuracy even under varying conditions. Additionally, the system facilitates the linking of guest visual data with their associated profiles, allowing hotels to offer personalized services such as room preferences and tailored amenities based on historical data."
      ],
      "metadata": {
        "id": "TV7k1GDBzkVp"
      }
    },
    {
      "cell_type": "markdown",
      "source": [
        "###Section 1: Importing Libraries\n",
        "\n",
        "Here, we import the required libraries for webcam capture, data handling, GUI rendering, and database operations."
      ],
      "metadata": {
        "id": "O4SpXwgIzSS3"
      }
    },
    {
      "cell_type": "code",
      "execution_count": null,
      "metadata": {
        "id": "ZEVM0gBWzA4g"
      },
      "outputs": [],
      "source": [
        "# Importing necessary libraries\n",
        "import numpy as np\n",
        "import pandas as pd\n",
        "import streamlit as st\n",
        "import cv2\n",
        "import os\n",
        "import sqlite3\n"
      ]
    },
    {
      "cell_type": "markdown",
      "source": [
        "###Section 2: Webcam Image Capture Function\n",
        "\n",
        "This section defines a function to capture an image using the webcam and save it to a specified location."
      ],
      "metadata": {
        "id": "D6IDiDsBzp20"
      }
    },
    {
      "cell_type": "code",
      "source": [
        "# Function to capture and save an image using the webcam\n",
        "def capture_image(save_path):\n",
        "    cap = cv2.VideoCapture(0)\n",
        "    if not cap.isOpened():\n",
        "        st.error(\"Error: Could not open webcam\")\n",
        "        return\n",
        "\n",
        "    st.write(\"Press 'Space' to Capture\")\n",
        "\n",
        "    while True:\n",
        "        ret, frame = cap.read()\n",
        "        if not ret:\n",
        "            st.error(\"Error: Could not read frame\")\n",
        "            break\n",
        "\n",
        "        cv2.imshow(\"Webcam Feed - Press space to capture\", frame)\n",
        "        key = cv2.waitKey(1) & 0xFF\n",
        "        if key == ord(\" \"):\n",
        "            save_file = os.path.join(save_path, \"captured_image.jpg\")\n",
        "            cv2.imwrite(save_file, frame)\n",
        "            st.success(f\"Image saved to {save_file}\")\n",
        "            break\n",
        "        elif key == ord(\"q\"):\n",
        "            break\n",
        "\n",
        "    cap.release()\n",
        "    cv2.destroyAllWindows()\n"
      ],
      "metadata": {
        "id": "bm5qzesEz0EJ"
      },
      "execution_count": null,
      "outputs": []
    },
    {
      "cell_type": "markdown",
      "source": [
        "###Section 3: Database Connection Function\n",
        "\n",
        "This section defines a function to establish a connection to the SQLite database."
      ],
      "metadata": {
        "id": "lsQYh0YYz-zN"
      }
    },
    {
      "cell_type": "code",
      "source": [
        "# Function to create a connection to SQLite database\n",
        "def create_connection(db_file):\n",
        "    conn = None\n",
        "    try:\n",
        "        conn = sqlite3.connect(db_file)\n",
        "        print(f\"Connected to database: {db_file}\")\n",
        "    except sqlite3.Error as e:\n",
        "        print(e)\n",
        "    return conn\n"
      ],
      "metadata": {
        "id": "MM6CEu1P0DVY"
      },
      "execution_count": null,
      "outputs": []
    },
    {
      "cell_type": "markdown",
      "source": [
        "###Section 4: Database Table Creation Function\n",
        "\n",
        "Here, we define a function to create a table in the database if it doesn't already exist."
      ],
      "metadata": {
        "id": "tQS_M3hB0FWr"
      }
    },
    {
      "cell_type": "code",
      "source": [
        "# Function to create a table in the database if it doesn't already exist\n",
        "def create_table(conn):\n",
        "    try:\n",
        "        query = '''CREATE TABLE IF NOT EXISTS user_data (\n",
        "                        id INTEGER PRIMARY KEY AUTOINCREMENT,\n",
        "                        name TEXT NOT NULL,\n",
        "                        age INTEGER,\n",
        "                        email TEXT\n",
        "                    );'''\n",
        "        conn.execute(query)\n",
        "        print(\"Table created successfully (if it didn't exist).\")\n",
        "    except sqlite3.Error as e:\n",
        "        print(e)\n"
      ],
      "metadata": {
        "id": "zldTNdr10I1R"
      },
      "execution_count": null,
      "outputs": []
    },
    {
      "cell_type": "markdown",
      "source": [
        "###Section 5: Data Insertion into Database\n",
        "\n",
        "This function handles inserting user data into the database."
      ],
      "metadata": {
        "id": "HOTdX8t80KdG"
      }
    },
    {
      "cell_type": "code",
      "source": [
        "# Function to insert data into the database\n",
        "def insert_data(conn, user_data):\n",
        "    try:\n",
        "        query = '''INSERT INTO user_data (name, age, email)\n",
        "                   VALUES (?, ?, ?);'''\n",
        "        conn.execute(query, user_data)\n",
        "        conn.commit()  # Commit the transaction\n",
        "        print(\"Data inserted successfully!\")\n",
        "    except sqlite3.Error as e:\n",
        "        print(e)\n"
      ],
      "metadata": {
        "id": "q8fnoaOQ0NTi"
      },
      "execution_count": null,
      "outputs": []
    },
    {
      "cell_type": "markdown",
      "source": [
        "###Section 6: Haar Cascade Classification\n",
        "\n",
        "This section detects features such as faces, eyes, and smiles using Haar cascades."
      ],
      "metadata": {
        "id": "j_fIvwM10PQH"
      }
    },
    {
      "cell_type": "code",
      "source": [
        "# Haar cascade classification function\n",
        "def classify_and_save_features(face_cascade_path, eye_cascade_path, smile_cascade_path):\n",
        "    # Check if cascade files exist\n",
        "    for path in [face_cascade_path, eye_cascade_path, smile_cascade_path]:\n",
        "        if not os.path.isfile(path):\n",
        "            raise FileNotFoundError(f\"Cascade file not found at {path}\")\n",
        "\n",
        "    # Load cascades\n",
        "    face_cascade = cv2.CascadeClassifier(face_cascade_path)\n",
        "    eye_cascade = cv2.CascadeClassifier(eye_cascade_path)\n",
        "    smile_cascade = cv2.CascadeClassifier(smile_cascade_path)\n",
        "\n",
        "    cap = cv2.VideoCapture(0)\n",
        "    features_list = []\n",
        "\n",
        "    while True:\n",
        "        ret, frame = cap.read()\n",
        "        if not ret:\n",
        "            break\n",
        "        gray = cv2.cvtColor(frame, cv2.COLOR_BGR2GRAY)\n",
        "        faces = face_cascade.detectMultiScale(gray, 1.3, 5)\n",
        "\n",
        "        for (x, y, w, h) in faces:\n",
        "            cv2.rectangle(frame, (x, y), (x + w, y + h), (255, 0, 0), 2)\n",
        "            roi_gray = gray[y:y + h, x:x + w]\n",
        "            roi_color = frame[y:y + h, x:x + w]\n",
        "\n",
        "            # Detect and mark eyes\n",
        "            eyes = eye_cascade.detectMultiScale(roi_gray, 1.1, 10)\n",
        "            for (ex, ey, ew, eh) in eyes:\n",
        "                cv2.rectangle(roi_color, (ex, ey), (ex + ew, ey + eh), (0, 255, 0), 2)\n",
        "\n",
        "            # Detect and mark smiles\n",
        "            smiles = smile_cascade.detectMultiScale(roi_gray, 1.7, 22)\n",
        "            for (sx, sy, sw, sh) in smiles:\n",
        "                cv2.rectangle(roi_color, (sx, sy), (sx + sw, sy + sh), (0, 0, 255), 2)\n",
        "\n",
        "        cv2.imshow(\"Detection\", frame)\n",
        "        if cv2.waitKey(1) & 0xFF == ord('q'):\n",
        "            break\n",
        "\n",
        "    cap.release()\n",
        "    cv2.destroyAllWindows()\n"
      ],
      "metadata": {
        "id": "xS1rqNv90SPD"
      },
      "execution_count": null,
      "outputs": []
    },
    {
      "cell_type": "markdown",
      "source": [
        "###Section 7: Bill Generation Placeholder\n",
        "\n",
        "This is a placeholder for the bill generation feature."
      ],
      "metadata": {
        "id": "AWslzZcs0UEX"
      }
    },
    {
      "cell_type": "code",
      "source": [
        "# Placeholder for bill generation logic\n",
        "def generate_bill(name):\n",
        "    st.write(f\"Bill generation logic for {name} goes here.\")\n"
      ],
      "metadata": {
        "id": "xdRJztnt0aHx"
      },
      "execution_count": null,
      "outputs": []
    },
    {
      "cell_type": "markdown",
      "source": [
        "###Section 8: Streamlit Main Application\n",
        "\n",
        "This section integrates all functionalities into the Streamlit app."
      ],
      "metadata": {
        "id": "Me-DX5Dn0c0y"
      }
    },
    {
      "cell_type": "code",
      "source": [
        "# Main function to run the Streamlit app\n",
        "def main():\n",
        "    st.title(\"Webcam Image Capture and Database Storage\")\n",
        "\n",
        "    if st.button(\"Click Image\"):\n",
        "        save_path = r\"./captured_images\"\n",
        "        os.makedirs(save_path, exist_ok=True)\n",
        "        capture_image(save_path)\n",
        "\n",
        "    person_name = st.text_input(\"Write the Name of the Customer\")\n",
        "    if st.button(\"Store in Database\"):\n",
        "        database = \"test.db\"\n",
        "        conn = create_connection(database)\n",
        "        if conn:\n",
        "            create_table(conn)\n",
        "            age = st.number_input(\"Enter Age\", min_value=0, max_value=120, step=1)\n",
        "            email = st.text_input(\"Enter Email\")\n",
        "            if st.button(\"Insert Data\"):\n",
        "                insert_data(conn, (person_name, age, email))\n",
        "            conn.close()\n",
        "\n",
        "    if st.button(\"Classify\"):\n",
        "        classify_and_save_features('./haarcascade_frontalface_default.xml',\n",
        "                                   './haarcascade_eye.xml',\n",
        "                                   './haarcascade_smile.xml')\n",
        "\n",
        "    name = st.text_input(\"Name for Bill Generation\")\n",
        "    if st.button(\"Generate Bill\"):\n",
        "        generate_bill(name)\n"
      ],
      "metadata": {
        "id": "uNO73dEl0gdN"
      },
      "execution_count": null,
      "outputs": []
    },
    {
      "cell_type": "markdown",
      "source": [
        "###Section 9: Run the Application\n",
        "\n",
        "Run the Streamlit app in this final section."
      ],
      "metadata": {
        "id": "SAY0zWIh0igb"
      }
    },
    {
      "cell_type": "code",
      "source": [
        "if __name__ == \"__main__\":\n",
        "    main()\n"
      ],
      "metadata": {
        "id": "WVOkJpOK0mxZ"
      },
      "execution_count": null,
      "outputs": []
    },
    {
      "cell_type": "markdown",
      "source": [
        "# ENHANCEMENT # 1:Input Fields for Additional Guest Information\n",
        "\n",
        "Add Input Fields for Additional Guest Information\n",
        "Extend the form to collect more details during check-in, such as dietary preferences, arrival/departure times, and preferred languages.*italicized text*"
      ],
      "metadata": {
        "id": "AexIEPR22EN2"
      }
    },
    {
      "cell_type": "markdown",
      "source": [
        "# ENHANCEMENT # 2:Guest Visit Purpose and Preferences\n",
        "\n",
        "\n",
        "Include input fields to capture the guest’s purpose of stay (e.g., business, vacation) and any specific preferences like quiet rooms or accessibility features. This helps staff better tailor their services."
      ],
      "metadata": {
        "id": "y1NWHxW52TvS"
      }
    },
    {
      "cell_type": "markdown",
      "source": [
        "# ENHANCEMENT # 3: Basic Billing Information Storage\n",
        "\n",
        "\n",
        "Add input fields to capture expenses like meals, spa treatments, or minibar usage. This allows you to use the \"Generate Bill\" button to create a simple breakdown of costs, improving the guest checkout experience.\n",
        "\n"
      ],
      "metadata": {
        "id": "j0gI0rAX2Uzh"
      }
    },
    {
      "cell_type": "markdown",
      "source": [
        "# ENHANCEMENT # 4:Notes Section\n",
        "\n",
        "Include a free-text \"Additional Notes\" field where staff can record special requests or important details about the guest, such as anniversaries or specific instructions.\n",
        "\n"
      ],
      "metadata": {
        "id": "Etez-j1E2V1T"
      }
    },
    {
      "cell_type": "markdown",
      "source": [
        "# ENHANCEMENT # 5:Confirmation Message After Data Entry\n",
        "\n",
        "Display a clear confirmation message or summary after the data has been stored successfully, allowing staff to review the details and ensuring data entry accuracy.\n",
        "\n",
        "\n",
        "\n",
        "\n"
      ],
      "metadata": {
        "id": "Ktn8p9HQ2W6P"
      }
    }
  ]
}