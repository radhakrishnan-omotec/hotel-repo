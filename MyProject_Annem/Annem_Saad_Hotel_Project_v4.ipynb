{
 "cells": [
  {
   "cell_type": "markdown",
   "metadata": {
    "id": "SuuXHrID0yp9"
   },
   "source": [
    "#Facial Recognition for Personalized Hotel Guest Services\n",
    "\n",
    "**Author**:\n",
    "ANNEM SAAD"
   ]
  },
  {
   "cell_type": "markdown",
   "metadata": {
    "id": "TV7k1GDBzkVp"
   },
   "source": [
    "##**ABSTRACT**\n",
    "\n",
    "Facial recognition technology has emerged as a transformative tool in various sectors, and its application in the hospitality industry promises to revolutionize guest experiences. This research explores the use of facial recognition for personalized hotel guest services, with the aim of streamlining check-in processes, enhancing security, and customizing guest services. The proposed system captures and processes guest images via a webcam interface, storing both facial images and personal information (such as name and room number) in a structured SQLite database. Facial feature detection, including the identification of eyes, smiles, and other key landmarks, is integrated to ensure high recognition accuracy even under varying conditions. Additionally, the system facilitates the linking of guest visual data with their associated profiles, allowing hotels to offer personalized services such as room preferences and tailored amenities based on historical data."
   ]
  },
  {
   "cell_type": "markdown",
   "metadata": {
    "id": "O4SpXwgIzSS3"
   },
   "source": [
    "###Section 1: Importing Libraries\n",
    "\n",
    "Here, we import the required libraries for webcam capture, data handling, GUI rendering, and database operations."
   ]
  },
  {
   "cell_type": "code",
   "metadata": {
    "ExecuteTime": {
     "end_time": "2024-12-07T09:08:53.431900Z",
     "start_time": "2024-12-07T09:08:15.545114Z"
    }
   },
   "source": "!pip install streamlit",
   "outputs": [
    {
     "name": "stderr",
     "output_type": "stream",
     "text": [
      "ERROR: Could not install packages due to an OSError: [WinError 32] The process cannot access the file because it is being used by another process: 'C:\\\\Users\\\\OMOLP091\\\\anaconda3\\\\Lib\\\\site-packages\\\\tenacity\\\\__init__.py'\n",
      "Consider using the `--user` option or check the permissions.\n",
      "\n"
     ]
    },
    {
     "name": "stdout",
     "output_type": "stream",
     "text": [
      "Collecting streamlit\n",
      "  Downloading streamlit-1.40.2-py2.py3-none-any.whl (8.6 MB)\n",
      "     ---------------------------------------- 8.6/8.6 MB 5.8 MB/s eta 0:00:00\n",
      "Requirement already satisfied: pandas<3,>=1.4.0 in c:\\users\\omolp091\\anaconda3\\lib\\site-packages (from streamlit) (1.5.3)\n",
      "Requirement already satisfied: packaging<25,>=20 in c:\\users\\omolp091\\anaconda3\\lib\\site-packages (from streamlit) (22.0)\n",
      "Requirement already satisfied: cachetools<6,>=4.0 in c:\\users\\omolp091\\anaconda3\\lib\\site-packages (from streamlit) (5.3.1)\n",
      "Requirement already satisfied: toml<2,>=0.10.1 in c:\\users\\omolp091\\anaconda3\\lib\\site-packages (from streamlit) (0.10.2)\n",
      "Requirement already satisfied: watchdog<7,>=2.1.5 in c:\\users\\omolp091\\anaconda3\\lib\\site-packages (from streamlit) (2.1.6)\n",
      "Requirement already satisfied: pillow<12,>=7.1.0 in c:\\users\\omolp091\\anaconda3\\lib\\site-packages (from streamlit) (10.1.0)\n",
      "Requirement already satisfied: rich<14,>=10.14.0 in c:\\users\\omolp091\\anaconda3\\lib\\site-packages (from streamlit) (13.8.1)\n",
      "Requirement already satisfied: numpy<3,>=1.23 in c:\\users\\omolp091\\anaconda3\\lib\\site-packages (from streamlit) (1.26.4)\n",
      "Collecting pydeck<1,>=0.8.0b4\n",
      "  Downloading pydeck-0.9.1-py2.py3-none-any.whl (6.9 MB)\n",
      "     ---------------------------------------- 6.9/6.9 MB 5.9 MB/s eta 0:00:00\n",
      "Requirement already satisfied: tornado<7,>=6.0.3 in c:\\users\\omolp091\\anaconda3\\lib\\site-packages (from streamlit) (6.1)\n",
      "Collecting altair<6,>=4.0\n",
      "  Downloading altair-5.5.0-py3-none-any.whl (731 kB)\n",
      "     -------------------------------------- 731.2/731.2 kB 5.8 MB/s eta 0:00:00\n",
      "Requirement already satisfied: gitpython!=3.1.19,<4,>=3.0.7 in c:\\users\\omolp091\\anaconda3\\lib\\site-packages (from streamlit) (3.1.40)\n",
      "Requirement already satisfied: typing-extensions<5,>=4.3.0 in c:\\users\\omolp091\\anaconda3\\lib\\site-packages (from streamlit) (4.12.2)\n",
      "Requirement already satisfied: requests<3,>=2.27 in c:\\users\\omolp091\\anaconda3\\lib\\site-packages (from streamlit) (2.32.3)\n",
      "Requirement already satisfied: pyarrow>=7.0 in c:\\users\\omolp091\\anaconda3\\lib\\site-packages (from streamlit) (14.0.1)\n",
      "Requirement already satisfied: click<9,>=7.0 in c:\\users\\omolp091\\anaconda3\\lib\\site-packages (from streamlit) (8.0.4)\n",
      "Collecting tenacity<10,>=8.1.0\n",
      "  Downloading tenacity-9.0.0-py3-none-any.whl (28 kB)\n",
      "Requirement already satisfied: protobuf<6,>=3.20 in c:\\users\\omolp091\\anaconda3\\lib\\site-packages (from streamlit) (3.20.3)\n",
      "Collecting blinker<2,>=1.0.0\n",
      "  Downloading blinker-1.9.0-py3-none-any.whl (8.5 kB)\n",
      "Requirement already satisfied: jsonschema>=3.0 in c:\\users\\omolp091\\anaconda3\\lib\\site-packages (from altair<6,>=4.0->streamlit) (4.17.3)\n",
      "Requirement already satisfied: jinja2 in c:\\users\\omolp091\\anaconda3\\lib\\site-packages (from altair<6,>=4.0->streamlit) (3.1.2)\n",
      "Collecting narwhals>=1.14.2\n",
      "  Downloading narwhals-1.15.2-py3-none-any.whl (233 kB)\n",
      "     -------------------------------------- 233.8/233.8 kB 4.8 MB/s eta 0:00:00\n",
      "Requirement already satisfied: colorama in c:\\users\\omolp091\\anaconda3\\lib\\site-packages (from click<9,>=7.0->streamlit) (0.4.6)\n",
      "Requirement already satisfied: gitdb<5,>=4.0.1 in c:\\users\\omolp091\\anaconda3\\lib\\site-packages (from gitpython!=3.1.19,<4,>=3.0.7->streamlit) (4.0.11)\n",
      "Requirement already satisfied: python-dateutil>=2.8.1 in c:\\users\\omolp091\\anaconda3\\lib\\site-packages (from pandas<3,>=1.4.0->streamlit) (2.8.2)\n",
      "Requirement already satisfied: pytz>=2020.1 in c:\\users\\omolp091\\anaconda3\\lib\\site-packages (from pandas<3,>=1.4.0->streamlit) (2022.7)\n",
      "Requirement already satisfied: certifi>=2017.4.17 in c:\\users\\omolp091\\anaconda3\\lib\\site-packages (from requests<3,>=2.27->streamlit) (2022.12.7)\n",
      "Requirement already satisfied: charset-normalizer<4,>=2 in c:\\users\\omolp091\\anaconda3\\lib\\site-packages (from requests<3,>=2.27->streamlit) (2.0.4)\n",
      "Requirement already satisfied: idna<4,>=2.5 in c:\\users\\omolp091\\anaconda3\\lib\\site-packages (from requests<3,>=2.27->streamlit) (3.4)\n",
      "Requirement already satisfied: urllib3<3,>=1.21.1 in c:\\users\\omolp091\\anaconda3\\lib\\site-packages (from requests<3,>=2.27->streamlit) (2.2.3)\n",
      "Requirement already satisfied: markdown-it-py>=2.2.0 in c:\\users\\omolp091\\anaconda3\\lib\\site-packages (from rich<14,>=10.14.0->streamlit) (3.0.0)\n",
      "Requirement already satisfied: pygments<3.0.0,>=2.13.0 in c:\\users\\omolp091\\anaconda3\\lib\\site-packages (from rich<14,>=10.14.0->streamlit) (2.18.0)\n",
      "Requirement already satisfied: smmap<6,>=3.0.1 in c:\\users\\omolp091\\anaconda3\\lib\\site-packages (from gitdb<5,>=4.0.1->gitpython!=3.1.19,<4,>=3.0.7->streamlit) (5.0.1)\n",
      "Requirement already satisfied: MarkupSafe>=2.0 in c:\\users\\omolp091\\anaconda3\\lib\\site-packages (from jinja2->altair<6,>=4.0->streamlit) (2.1.1)\n",
      "Requirement already satisfied: pyrsistent!=0.17.0,!=0.17.1,!=0.17.2,>=0.14.0 in c:\\users\\omolp091\\anaconda3\\lib\\site-packages (from jsonschema>=3.0->altair<6,>=4.0->streamlit) (0.18.0)\n",
      "Requirement already satisfied: attrs>=17.4.0 in c:\\users\\omolp091\\anaconda3\\lib\\site-packages (from jsonschema>=3.0->altair<6,>=4.0->streamlit) (22.1.0)\n",
      "Requirement already satisfied: mdurl~=0.1 in c:\\users\\omolp091\\anaconda3\\lib\\site-packages (from markdown-it-py>=2.2.0->rich<14,>=10.14.0->streamlit) (0.1.2)\n",
      "Requirement already satisfied: six>=1.5 in c:\\users\\omolp091\\anaconda3\\lib\\site-packages (from python-dateutil>=2.8.1->pandas<3,>=1.4.0->streamlit) (1.16.0)\n",
      "Installing collected packages: tenacity, narwhals, blinker, pydeck, altair, streamlit\n",
      "  Attempting uninstall: tenacity\n",
      "    Found existing installation: tenacity 8.0.1\n",
      "    Uninstalling tenacity-8.0.1:\n",
      "      Successfully uninstalled tenacity-8.0.1\n",
      "  Rolling back uninstall of tenacity\n",
      "  Moving to c:\\users\\omolp091\\anaconda3\\lib\\site-packages\\tenacity-8.0.1.dist-info\\\n",
      "   from C:\\Users\\OMOLP091\\anaconda3\\Lib\\site-packages\\~-nacity-8.0.1.dist-info\n",
      "  Moving to c:\\users\\omolp091\\anaconda3\\lib\\site-packages\\tenacity\\\n",
      "   from C:\\Users\\OMOLP091\\anaconda3\\Lib\\site-packages\\~-nacity\n",
      "^C\n"
     ]
    }
   ],
   "execution_count": 2
  },
  {
   "cell_type": "code",
   "execution_count": 12,
   "metadata": {
    "id": "ZEVM0gBWzA4g"
   },
   "outputs": [],
   "source": [
    "# Importing necessary libraries\n",
    "import numpy as np\n",
    "import pandas as pd\n",
    "import streamlit as st\n",
    "import cv2\n",
    "import os\n",
    "import sqlite3\n"
   ]
  },
  {
   "cell_type": "markdown",
   "metadata": {
    "id": "D6IDiDsBzp20"
   },
   "source": [
    "###Section 2: Webcam Image Capture Function\n",
    "\n",
    "This section defines a function to capture an image using the webcam and save it to a specified location."
   ]
  },
  {
   "cell_type": "code",
   "execution_count": 1,
   "metadata": {
    "id": "bm5qzesEz0EJ"
   },
   "outputs": [
    {
     "name": "stdout",
     "output_type": "stream",
     "text": [
      "end of function\n"
     ]
    }
   ],
   "source": [
    "# Function to capture and save an image using the webcam\n",
    "def capture_image(save_path):\n",
    "    cap = cv2.VideoCapture(0)\n",
    "    if not cap.isOpened():\n",
    "        st.error(\"Error: Could not open webcam\")\n",
    "        return\n",
    "\n",
    "    st.write(\"Press 'Space' to Capture\")\n",
    "\n",
    "    while True:\n",
    "        ret, frame = cap.read()\n",
    "        if not ret:\n",
    "            st.error(\"Error: Could not read frame\")\n",
    "            break\n",
    "\n",
    "        cv2.imshow(\"Webcam Feed - Press space to capture\", frame)\n",
    "        key = cv2.waitKey(1) & 0xFF\n",
    "        if key == ord(\" \"):\n",
    "            save_file = os.path.join(save_path, \"captured_image.jpg\")\n",
    "            cv2.imwrite(save_file, frame)\n",
    "            st.success(f\"Image saved to {save_file}\")\n",
    "            break\n",
    "        elif key == ord(\"q\"):\n",
    "            break\n",
    "\n",
    "    cap.release()\n",
    "    cv2.destroyAllWindows()\n",
    "print(\"end of function\")\n"
   ]
  },
  {
   "cell_type": "markdown",
   "metadata": {
    "id": "lsQYh0YYz-zN"
   },
   "source": [
    "###Section 3: Database Connection Function\n",
    "\n",
    "This section defines a function to establish a connection to the SQLite database."
   ]
  },
  {
   "cell_type": "code",
   "execution_count": 2,
   "metadata": {
    "id": "MM6CEu1P0DVY"
   },
   "outputs": [
    {
     "name": "stdout",
     "output_type": "stream",
     "text": [
      "end of function\n"
     ]
    }
   ],
   "source": [
    "# Function to create a connection to SQLite database\n",
    "def create_connection(db_file):\n",
    "    conn = None\n",
    "    try:\n",
    "        conn = sqlite3.connect(db_file)\n",
    "        print(f\"Connected to database: {db_file}\")\n",
    "    except sqlite3.Error as e:\n",
    "        print(e)\n",
    "    return conn\n",
    "print(\"end of function\")\n"
   ]
  },
  {
   "cell_type": "markdown",
   "metadata": {
    "id": "tQS_M3hB0FWr"
   },
   "source": [
    "###Section 4: Database Table Creation Function\n",
    "\n",
    "Here, we define a function to create a table in the database if it doesn't already exist."
   ]
  },
  {
   "cell_type": "code",
   "execution_count": 4,
   "metadata": {
    "id": "zldTNdr10I1R"
   },
   "outputs": [
    {
     "name": "stdout",
     "output_type": "stream",
     "text": [
      "end of function\n"
     ]
    }
   ],
   "source": [
    "# Function to create a table in the database if it doesn't already exist\n",
    "def create_table(conn):\n",
    "    try:\n",
    "        query = '''CREATE TABLE IF NOT EXISTS user_data (\n",
    "                        id INTEGER PRIMARY KEY AUTOINCREMENT,\n",
    "                        name TEXT NOT NULL,\n",
    "                        age INTEGER,\n",
    "                        email TEXT\n",
    "                    );'''\n",
    "        conn.execute(query)\n",
    "        print(\"Table created successfully (if it didn't exist).\")\n",
    "    except sqlite3.Error as e:\n",
    "        print(e)\n",
    "print(\"end of function\")"
   ]
  },
  {
   "cell_type": "markdown",
   "metadata": {
    "id": "HOTdX8t80KdG"
   },
   "source": [
    "###Section 5: Data Insertion into Database\n",
    "\n",
    "This function handles inserting user data into the database."
   ]
  },
  {
   "cell_type": "code",
   "execution_count": 5,
   "metadata": {
    "id": "q8fnoaOQ0NTi"
   },
   "outputs": [
    {
     "name": "stdout",
     "output_type": "stream",
     "text": [
      "end of function\n"
     ]
    }
   ],
   "source": [
    "# Function to insert data into the database\n",
    "def insert_data(conn, user_data):\n",
    "    try:\n",
    "        query = '''INSERT INTO user_data (name, age, email)\n",
    "                   VALUES (?, ?, ?);'''\n",
    "        conn.execute(query, user_data)\n",
    "        conn.commit()  # Commit the transaction\n",
    "        print(\"Data inserted successfully!\")\n",
    "    except sqlite3.Error as e:\n",
    "        print(e)\n",
    "print(\"end of function\")"
   ]
  },
  {
   "cell_type": "markdown",
   "metadata": {
    "id": "j_fIvwM10PQH"
   },
   "source": [
    "###Section 6: Haar Cascade Classification\n",
    "\n",
    "This section detects features such as faces, eyes, and smiles using Haar cascades."
   ]
  },
  {
   "cell_type": "code",
   "execution_count": 6,
   "metadata": {
    "id": "xS1rqNv90SPD"
   },
   "outputs": [
    {
     "name": "stdout",
     "output_type": "stream",
     "text": [
      "end of function\n"
     ]
    }
   ],
   "source": [
    "# Haar cascade classification function\n",
    "def classify_and_save_features(face_cascade_path, eye_cascade_path, smile_cascade_path):\n",
    "    # Check if cascade files exist\n",
    "    for path in [face_cascade_path, eye_cascade_path, smile_cascade_path]:\n",
    "        if not os.path.isfile(path):\n",
    "            raise FileNotFoundError(f\"Cascade file not found at {path}\")\n",
    "\n",
    "    # Load cascades\n",
    "    face_cascade = cv2.CascadeClassifier(face_cascade_path)\n",
    "    eye_cascade = cv2.CascadeClassifier(eye_cascade_path)\n",
    "    smile_cascade = cv2.CascadeClassifier(smile_cascade_path)\n",
    "\n",
    "    cap = cv2.VideoCapture(0)\n",
    "    features_list = []\n",
    "\n",
    "    while True:\n",
    "        ret, frame = cap.read()\n",
    "        if not ret:\n",
    "            break\n",
    "        gray = cv2.cvtColor(frame, cv2.COLOR_BGR2GRAY)\n",
    "        faces = face_cascade.detectMultiScale(gray, 1.3, 5)\n",
    "\n",
    "        for (x, y, w, h) in faces:\n",
    "            cv2.rectangle(frame, (x, y), (x + w, y + h), (255, 0, 0), 2)\n",
    "            roi_gray = gray[y:y + h, x:x + w]\n",
    "            roi_color = frame[y:y + h, x:x + w]\n",
    "\n",
    "            # Detect and mark eyes\n",
    "            eyes = eye_cascade.detectMultiScale(roi_gray, 1.1, 10)\n",
    "            for (ex, ey, ew, eh) in eyes:\n",
    "                cv2.rectangle(roi_color, (ex, ey), (ex + ew, ey + eh), (0, 255, 0), 2)\n",
    "\n",
    "            # Detect and mark smiles\n",
    "            smiles = smile_cascade.detectMultiScale(roi_gray, 1.7, 22)\n",
    "            for (sx, sy, sw, sh) in smiles:\n",
    "                cv2.rectangle(roi_color, (sx, sy), (sx + sw, sy + sh), (0, 0, 255), 2)\n",
    "\n",
    "        cv2.imshow(\"Detection\", frame)\n",
    "        if cv2.waitKey(1) & 0xFF == ord('q'):\n",
    "            break\n",
    "\n",
    "    cap.release()\n",
    "    cv2.destroyAllWindows()\n",
    "print(\"end of function\")"
   ]
  },
  {
   "cell_type": "markdown",
   "metadata": {
    "id": "AWslzZcs0UEX"
   },
   "source": [
    "###Section 7: Bill Generation Placeholder\n",
    "\n",
    "This is a placeholder for the bill generation feature."
   ]
  },
  {
   "cell_type": "code",
   "execution_count": 7,
   "metadata": {
    "id": "xdRJztnt0aHx"
   },
   "outputs": [
    {
     "name": "stdout",
     "output_type": "stream",
     "text": [
      "end of function\n"
     ]
    }
   ],
   "source": [
    "# Placeholder for bill generation logic\n",
    "def generate_bill(name):\n",
    "    st.write(f\"Bill generation logic for {name} goes here.\")\n",
    "print(\"end of function\")"
   ]
  },
  {
   "cell_type": "markdown",
   "metadata": {
    "id": "Me-DX5Dn0c0y"
   },
   "source": [
    "###Section 8: Streamlit Main Application\n",
    "\n",
    "This section integrates all functionalities into the Streamlit app."
   ]
  },
  {
   "cell_type": "code",
   "execution_count": null,
   "metadata": {
    "id": "uNO73dEl0gdN"
   },
   "outputs": [
    {
     "name": "stdout",
     "output_type": "stream",
     "text": [
      "end of function1\n"
     ]
    },
    {
     "name": "stderr",
     "output_type": "stream",
     "text": [
      "2024-12-05 17:11:40.970 \n",
      "  \u001B[33m\u001B[1mWarning:\u001B[0m to view this Streamlit app on a browser, run it with the following\n",
      "  command:\n",
      "\n",
      "    streamlit run C:\\Users\\saad2\\AppData\\Roaming\\Python\\Python312\\site-packages\\ipykernel_launcher.py [ARGUMENTS]\n",
      "2024-12-05 17:11:40.972 Session state does not function when running a script without `streamlit run`\n"
     ]
    },
    {
     "name": "stdout",
     "output_type": "stream",
     "text": [
      "end of function2\n"
     ]
    }
   ],
   "source": [
    "# Main function to run the Streamlit app\n",
    "def main():\n",
    "    st.title(\"Webcam Image Capture and Database Storage\")\n",
    "\n",
    "    if st.button(\"Click Image\"):\n",
    "        save_path = r\"./captured_images\"\n",
    "        os.makedirs(save_path, exist_ok=True)\n",
    "        capture_image(save_path)\n",
    "\n",
    "    person_name = st.text_input(\"Write the Name of the Customer\")\n",
    "    if st.button(\"Store in Database\"):\n",
    "        database = \"test.db\"\n",
    "        conn = create_connection(database)\n",
    "        if conn:\n",
    "            create_table(conn)\n",
    "            age = st.number_input(\"Enter Age\", min_value=0, max_value=120, step=1)\n",
    "            email = st.text_input(\"Enter Email\")\n",
    "            if st.button(\"Insert Data\"):\n",
    "                insert_data(conn, (person_name, age, email))\n",
    "            conn.close()\n",
    "\n",
    "    if st.button(\"Classify\"):\n",
    "        classify_and_save_features('./haarcascade_frontalface_default.xml',\n",
    "                                   './haarcascade_eye.xml',\n",
    "                                   './haarcascade_smile.xml')\n",
    "\n",
    "    name = st.text_input(\"Name for Bill Generation\")\n",
    "    if st.button(\"Generate Bill\"):\n",
    "        generate_bill(name)\n",
    "print(\"end of function1\")\n",
    "if __name__ == \"__main__\":\n",
    "    main()\n",
    "print(\"end of function2\")"
   ]
  },
  {
   "cell_type": "code",
   "execution_count": null,
   "metadata": {},
   "outputs": [],
   "source": []
  },
  {
   "cell_type": "markdown",
   "metadata": {
    "id": "SAY0zWIh0igb"
   },
   "source": [
    "###Section 9: Run the Application\n",
    "\n",
    "Run the Streamlit app in this final section."
   ]
  },
  {
   "cell_type": "code",
   "execution_count": null,
   "metadata": {
    "id": "WVOkJpOK0mxZ"
   },
   "outputs": [],
   "source": [
    "!streamlit run C:\\Users\\saad2\\AppData\\Roaming\\Python\\Python312\\site-packages\\ipykernel_launcher.py "
   ]
  },
  {
   "cell_type": "markdown",
   "metadata": {
    "id": "GIN93YLBgVnd"
   },
   "source": [
    "#ENHANCEMENTS"
   ]
  },
  {
   "cell_type": "code",
   "execution_count": null,
   "metadata": {
    "id": "jhJ6EzL1gSdy"
   },
   "outputs": [],
   "source": [
    "import numpy as np\n",
    "import pandas as pd\n",
    "import streamlit as st\n",
    "import cv2\n",
    "import os\n",
    "import sqlite3"
   ]
  },
  {
   "cell_type": "markdown",
   "metadata": {
    "id": "AexIEPR22EN2"
   },
   "source": [
    "# ENHANCEMENT # 1:Input Fields for Additional Guest Information\n",
    "\n",
    "Add Input Fields for Additional Guest Information\n",
    "Extend the form to collect more details during check-in, such as dietary preferences, arrival/departure times, and preferred languages.*italicized text*"
   ]
  },
  {
   "cell_type": "code",
   "execution_count": 14,
   "metadata": {
    "id": "99Y17ObMfgpH"
   },
   "outputs": [
    {
     "name": "stdout",
     "output_type": "stream",
     "text": [
      "end of function\n"
     ]
    }
   ],
   "source": [
    "### Section 1: Input Fields for Additional Guest Information\n",
    "# This section collects additional details like dietary preferences and arrival/departure times.\n",
    "\n",
    "def collect_additional_info():\n",
    "    st.subheader(\"Additional Guest Information\")\n",
    "    dietary_preferences = st.text_input(\"Dietary Preferences (e.g., Vegetarian, Vegan, etc.)\")\n",
    "    arrival_time = st.time_input(\"Arrival Time\")\n",
    "    departure_time = st.time_input(\"Departure Time\")\n",
    "    preferred_language = st.text_input(\"Preferred Language\")\n",
    "\n",
    "    return dietary_preferences, arrival_time, departure_time, preferred_language\n",
    "print(\"end of function\")"
   ]
  },
  {
   "cell_type": "markdown",
   "metadata": {
    "id": "y1NWHxW52TvS"
   },
   "source": [
    "# ENHANCEMENT # 2:Guest Visit Purpose and Preferences\n",
    "\n",
    "\n",
    "Include input fields to capture the guest’s purpose of stay (e.g., business, vacation) and any specific preferences like quiet rooms or accessibility features. This helps staff better tailor their services."
   ]
  },
  {
   "cell_type": "code",
   "execution_count": 15,
   "metadata": {
    "id": "jfaqOwM9fjZ-"
   },
   "outputs": [
    {
     "name": "stdout",
     "output_type": "stream",
     "text": [
      "end of function\n"
     ]
    }
   ],
   "source": [
    "### Section 2: Guest Visit Purpose and Preferences\n",
    "# Collects information about the guest’s purpose of stay and specific preferences.\n",
    "\n",
    "def collect_visit_purpose():\n",
    "    st.subheader(\"Guest Visit Purpose and Preferences\")\n",
    "    visit_purpose = st.selectbox(\"Purpose of Stay\", [\"Business\", \"Vacation\", \"Others\"])\n",
    "    room_preference = st.selectbox(\"Room Preferences\", [\"Quiet Room\", \"Accessibility Features\", \"Any\"])\n",
    "\n",
    "    return visit_purpose, room_preference\n",
    "print(\"end of function\")"
   ]
  },
  {
   "cell_type": "markdown",
   "metadata": {
    "id": "j0gI0rAX2Uzh"
   },
   "source": [
    "# ENHANCEMENT # 3: Basic Billing Information Storage\n",
    "\n",
    "\n",
    "Add input fields to capture expenses like meals, spa treatments, or minibar usage. This allows you to use the \"Generate Bill\" button to create a simple breakdown of costs, improving the guest checkout experience.\n",
    "\n"
   ]
  },
  {
   "cell_type": "code",
   "execution_count": 16,
   "metadata": {
    "id": "fDnt-I7gfl9b"
   },
   "outputs": [
    {
     "name": "stdout",
     "output_type": "stream",
     "text": [
      "end of function\n"
     ]
    }
   ],
   "source": [
    "### Section 3: Basic Billing Information Storage\n",
    "# Captures expenses like meals, spa treatments, minibar usage, and stores them for bill generation.\n",
    "\n",
    "def collect_billing_info():\n",
    "    st.subheader(\"Basic Billing Information\")\n",
    "    meals_expense = st.number_input(\"Meals Expense ($)\", min_value=0.0, step=0.01)\n",
    "    spa_expense = st.number_input(\"Spa Treatments Expense ($)\", min_value=0.0, step=0.01)\n",
    "    minibar_expense = st.number_input(\"Minibar Usage Expense ($)\", min_value=0.0, step=0.01)\n",
    "\n",
    "    total_expense = meals_expense + spa_expense + minibar_expense\n",
    "    st.write(f\"Total Expenses: ${total_expense}\")\n",
    "\n",
    "    return meals_expense, spa_expense, minibar_expense, total_expense\n",
    "print(\"end of function\")"
   ]
  },
  {
   "cell_type": "markdown",
   "metadata": {
    "id": "Etez-j1E2V1T"
   },
   "source": [
    "# ENHANCEMENT # 4:Notes Section\n",
    "\n",
    "Include a free-text \"Additional Notes\" field where staff can record special requests or important details about the guest, such as anniversaries or specific instructions.\n",
    "\n"
   ]
  },
  {
   "cell_type": "code",
   "execution_count": 17,
   "metadata": {
    "id": "kCHwDISTfoNe"
   },
   "outputs": [
    {
     "name": "stdout",
     "output_type": "stream",
     "text": [
      "end of function\n"
     ]
    }
   ],
   "source": [
    "### Section 4: Notes Section\n",
    "# A free-text field where staff can record special requests or other important details about the guest.\n",
    "\n",
    "def additional_notes():\n",
    "    st.subheader(\"Additional Notes\")\n",
    "    notes = st.text_area(\"Enter any special requests or important details about the guest.\")\n",
    "    return notes\n",
    "print(\"end of function\")"
   ]
  },
  {
   "cell_type": "markdown",
   "metadata": {
    "id": "Ktn8p9HQ2W6P"
   },
   "source": [
    "# ENHANCEMENT # 5:Confirmation Message After Data Entry\n",
    "\n",
    "Display a clear confirmation message or summary after the data has been stored successfully, allowing staff to review the details and ensuring data entry accuracy.\n",
    "\n",
    "\n",
    "\n",
    "\n"
   ]
  },
  {
   "cell_type": "code",
   "execution_count": 18,
   "metadata": {
    "id": "8qpajkR2fxch"
   },
   "outputs": [],
   "source": [
    "### Section 5: Confirmation Message After Data Entry\n",
    "# Displays a summary of the entered data for review and confirmation.\n",
    "\n",
    "def display_confirmation(name, dietary_preferences, arrival_time, departure_time, preferred_language, visit_purpose, room_preference, meals_expense, spa_expense, minibar_expense, notes):\n",
    "    st.subheader(\"Confirmation of Data Entry\")\n",
    "    st.write(f\"Name: {name}\")\n",
    "    st.write(f\"Dietary Preferences: {dietary_preferences}\")\n",
    "    st.write(f\"Arrival Time: {arrival_time}\")\n",
    "    st.write(f\"Departure Time: {departure_time}\")\n",
    "    st.write(f\"Preferred Language: {preferred_language}\")\n",
    "    st.write(f\"Visit Purpose: {visit_purpose}\")\n",
    "    st.write(f\"Room Preference: {room_preference}\")\n",
    "    st.write(f\"Meals Expense: ${meals_expense}\")\n",
    "    st.write(f\"Spa Expense: ${spa_expense}\")\n",
    "    st.write(f\"Minibar Expense: ${minibar_expense}\")\n",
    "    st.write(f\"Additional Notes: {notes}\")\n",
    "\n",
    "    if st.button(\"Confirm and Save\"):\n",
    "        st.success(\"Data successfully saved!\")\n",
    "    else:\n",
    "        st.warning(\"Please review and confirm the details.\")\n",
    "\n"
   ]
  },
  {
   "cell_type": "markdown",
   "metadata": {
    "id": "8H6scWA-gI9x"
   },
   "source": [
    "# Main Application"
   ]
  },
  {
   "cell_type": "code",
   "execution_count": 19,
   "metadata": {
    "id": "lze9j9EdgK6_"
   },
   "outputs": [],
   "source": [
    "### Streamlit Main Application\n",
    "def main():\n",
    "    st.title(\"Enhanced Hotel Guest Services\")\n",
    "\n",
    "    person_name = st.text_input(\"Write the Name of the Customer\")\n",
    "\n",
    "    # Collect guest details\n",
    "    dietary_preferences, arrival_time, departure_time, preferred_language = collect_additional_info()\n",
    "    visit_purpose, room_preference = collect_visit_purpose()\n",
    "    meals_expense, spa_expense, minibar_expense, total_expense = collect_billing_info()\n",
    "    notes = additional_notes()\n",
    "\n",
    "    # Display the confirmation message\n",
    "    display_confirmation(person_name, dietary_preferences, arrival_time, departure_time, preferred_language, visit_purpose, room_preference, meals_expense, spa_expense, minibar_expense, notes)\n",
    "\n",
    "    if st.button(\"Store in Database\"):\n",
    "        database = \"test.db\"\n",
    "        conn = create_connection(database)\n",
    "        if conn:\n",
    "            create_table(conn)\n",
    "            age = st.number_input(\"Enter Age\", min_value=0, max_value=120, step=1)\n",
    "            email = st.text_input(\"Enter Email\")\n",
    "            if st.button(\"Insert Data\"):\n",
    "                insert_data(conn, (person_name, age, email))\n",
    "            conn.close()"
   ]
  },
  {
   "cell_type": "markdown",
   "metadata": {
    "id": "9Y8lORQwgL8C"
   },
   "source": [
    "---\n",
    "---\n"
   ]
  }
 ],
 "metadata": {
  "colab": {
   "provenance": []
  },
  "kernelspec": {
   "display_name": "Python 3",
   "language": "python",
   "name": "python3"
  },
  "language_info": {
   "codemirror_mode": {
    "name": "ipython",
    "version": 3
   },
   "file_extension": ".py",
   "mimetype": "text/x-python",
   "name": "python",
   "nbconvert_exporter": "python",
   "pygments_lexer": "ipython3",
   "version": "3.12.4"
  }
 },
 "nbformat": 4,
 "nbformat_minor": 0
}
